{
 "cells": [
  {
   "cell_type": "markdown",
   "metadata": {},
   "source": [
    "Task 3"
   ]
  },
  {
   "cell_type": "markdown",
   "metadata": {},
   "source": [
    "Read Data"
   ]
  },
  {
   "cell_type": "code",
   "execution_count": 1,
   "metadata": {},
   "outputs": [
    {
     "name": "stdout",
     "output_type": "stream",
     "text": [
      "Date                object\n",
      "Customer Age         int64\n",
      "Customer Gender     object\n",
      "Country             object\n",
      "State               object\n",
      "Product Category    object\n",
      "Sub Category        object\n",
      "Quantity             int64\n",
      "Unit Cost           object\n",
      "Unit Price          object\n",
      "dtype: object\n"
     ]
    },
    {
     "data": {
      "text/html": [
       "<div>\n",
       "<style scoped>\n",
       "    .dataframe tbody tr th:only-of-type {\n",
       "        vertical-align: middle;\n",
       "    }\n",
       "\n",
       "    .dataframe tbody tr th {\n",
       "        vertical-align: top;\n",
       "    }\n",
       "\n",
       "    .dataframe thead th {\n",
       "        text-align: right;\n",
       "    }\n",
       "</style>\n",
       "<table border=\"1\" class=\"dataframe\">\n",
       "  <thead>\n",
       "    <tr style=\"text-align: right;\">\n",
       "      <th></th>\n",
       "      <th>Date</th>\n",
       "      <th>Customer Age</th>\n",
       "      <th>Customer Gender</th>\n",
       "      <th>Country</th>\n",
       "      <th>State</th>\n",
       "      <th>Product Category</th>\n",
       "      <th>Sub Category</th>\n",
       "      <th>Quantity</th>\n",
       "      <th>Unit Cost</th>\n",
       "      <th>Unit Price</th>\n",
       "    </tr>\n",
       "  </thead>\n",
       "  <tbody>\n",
       "    <tr>\n",
       "      <th>0</th>\n",
       "      <td>2/19/2016</td>\n",
       "      <td>29</td>\n",
       "      <td>F</td>\n",
       "      <td>United States</td>\n",
       "      <td>Washington</td>\n",
       "      <td>Accessories</td>\n",
       "      <td>Tires and Tubes</td>\n",
       "      <td>1</td>\n",
       "      <td>$80</td>\n",
       "      <td>$109</td>\n",
       "    </tr>\n",
       "    <tr>\n",
       "      <th>1</th>\n",
       "      <td>2/20/2016</td>\n",
       "      <td>29</td>\n",
       "      <td>F</td>\n",
       "      <td>United States</td>\n",
       "      <td>Washington</td>\n",
       "      <td>Clothing</td>\n",
       "      <td>Gloves</td>\n",
       "      <td>2</td>\n",
       "      <td>$25</td>\n",
       "      <td>$29</td>\n",
       "    </tr>\n",
       "    <tr>\n",
       "      <th>2</th>\n",
       "      <td>2/27/2016</td>\n",
       "      <td>29</td>\n",
       "      <td>F</td>\n",
       "      <td>United States</td>\n",
       "      <td>Washington</td>\n",
       "      <td>Accessories</td>\n",
       "      <td>Tires and Tubes</td>\n",
       "      <td>3</td>\n",
       "      <td>$4</td>\n",
       "      <td>$5</td>\n",
       "    </tr>\n",
       "    <tr>\n",
       "      <th>3</th>\n",
       "      <td>3/12/2016</td>\n",
       "      <td>29</td>\n",
       "      <td>F</td>\n",
       "      <td>United States</td>\n",
       "      <td>Washington</td>\n",
       "      <td>Accessories</td>\n",
       "      <td>Tires and Tubes</td>\n",
       "      <td>3</td>\n",
       "      <td>$88</td>\n",
       "      <td>$117</td>\n",
       "    </tr>\n",
       "    <tr>\n",
       "      <th>4</th>\n",
       "      <td>3/12/2016</td>\n",
       "      <td>29</td>\n",
       "      <td>F</td>\n",
       "      <td>United States</td>\n",
       "      <td>Washington</td>\n",
       "      <td>Accessories</td>\n",
       "      <td>Tires and Tubes</td>\n",
       "      <td>3</td>\n",
       "      <td>$35</td>\n",
       "      <td>$42</td>\n",
       "    </tr>\n",
       "  </tbody>\n",
       "</table>\n",
       "</div>"
      ],
      "text/plain": [
       "        Date  Customer Age Customer Gender        Country       State  \\\n",
       "0  2/19/2016            29               F  United States  Washington   \n",
       "1  2/20/2016            29               F  United States  Washington   \n",
       "2  2/27/2016            29               F  United States  Washington   \n",
       "3  3/12/2016            29               F  United States  Washington   \n",
       "4  3/12/2016            29               F  United States  Washington   \n",
       "\n",
       "  Product Category     Sub Category  Quantity Unit Cost Unit Price  \n",
       "0      Accessories  Tires and Tubes         1      $80       $109   \n",
       "1         Clothing           Gloves         2      $25        $29   \n",
       "2      Accessories  Tires and Tubes         3       $4         $5   \n",
       "3      Accessories  Tires and Tubes         3      $88       $117   \n",
       "4      Accessories  Tires and Tubes         3      $35        $42   "
      ]
     },
     "execution_count": 1,
     "metadata": {},
     "output_type": "execute_result"
    }
   ],
   "source": [
    "import pandas as pd \n",
    "\n",
    "df = pd.read_csv(r\"C:\\Users\\user\\Desktop\\DataScience\\DataSet\\PQ Data.csv\")\n",
    "\n",
    "print(df.dtypes)\n",
    "df.head(5)\n",
    "\n"
   ]
  },
  {
   "cell_type": "markdown",
   "metadata": {},
   "source": [
    "clean Data"
   ]
  },
  {
   "cell_type": "code",
   "execution_count": 2,
   "metadata": {},
   "outputs": [
    {
     "name": "stdout",
     "output_type": "stream",
     "text": [
      "<class 'pandas.core.frame.DataFrame'>\n",
      "RangeIndex: 34865 entries, 0 to 34864\n",
      "Data columns (total 10 columns):\n",
      " #   Column            Non-Null Count  Dtype \n",
      "---  ------            --------------  ----- \n",
      " 0   Date              34865 non-null  object\n",
      " 1   Customer Age      34865 non-null  int64 \n",
      " 2   Customer Gender   34865 non-null  object\n",
      " 3   Country           34865 non-null  object\n",
      " 4   State             34865 non-null  object\n",
      " 5   Product Category  34865 non-null  object\n",
      " 6   Sub Category      34865 non-null  object\n",
      " 7   Quantity          34865 non-null  int64 \n",
      " 8   Unit Cost         34865 non-null  object\n",
      " 9   Unit Price        34865 non-null  object\n",
      "dtypes: int64(2), object(8)\n",
      "memory usage: 2.7+ MB\n"
     ]
    }
   ],
   "source": [
    "df.isnull().sum()\n",
    "df.info()\n"
   ]
  },
  {
   "cell_type": "code",
   "execution_count": 3,
   "metadata": {},
   "outputs": [
    {
     "data": {
      "text/html": [
       "<div>\n",
       "<style scoped>\n",
       "    .dataframe tbody tr th:only-of-type {\n",
       "        vertical-align: middle;\n",
       "    }\n",
       "\n",
       "    .dataframe tbody tr th {\n",
       "        vertical-align: top;\n",
       "    }\n",
       "\n",
       "    .dataframe thead th {\n",
       "        text-align: right;\n",
       "    }\n",
       "</style>\n",
       "<table border=\"1\" class=\"dataframe\">\n",
       "  <thead>\n",
       "    <tr style=\"text-align: right;\">\n",
       "      <th></th>\n",
       "      <th>Unit Price</th>\n",
       "      <th>Unit Cost</th>\n",
       "    </tr>\n",
       "  </thead>\n",
       "  <tbody>\n",
       "    <tr>\n",
       "      <th>0</th>\n",
       "      <td>109.0</td>\n",
       "      <td>80</td>\n",
       "    </tr>\n",
       "    <tr>\n",
       "      <th>1</th>\n",
       "      <td>29.0</td>\n",
       "      <td>25</td>\n",
       "    </tr>\n",
       "    <tr>\n",
       "      <th>2</th>\n",
       "      <td>5.0</td>\n",
       "      <td>4</td>\n",
       "    </tr>\n",
       "    <tr>\n",
       "      <th>3</th>\n",
       "      <td>117.0</td>\n",
       "      <td>88</td>\n",
       "    </tr>\n",
       "  </tbody>\n",
       "</table>\n",
       "</div>"
      ],
      "text/plain": [
       "   Unit Price  Unit Cost\n",
       "0       109.0         80\n",
       "1        29.0         25\n",
       "2         5.0          4\n",
       "3       117.0         88"
      ]
     },
     "execution_count": 3,
     "metadata": {},
     "output_type": "execute_result"
    }
   ],
   "source": [
    "\n",
    "df[\"Unit Price\"] = df[\"Unit Price\"].str.replace(\"$\",\"\")\n",
    "df[\"Unit Price\"] = df[\"Unit Price\"].str.replace(\",\",\"\")\n",
    "df[\"Unit Price\"] = df[\"Unit Price\"].astype(\"float\")\n",
    "\n",
    "\n",
    "\n",
    "\n",
    "col = ['Unit Price','Unit Cost']\n",
    "df[col]=df[col].replace(r'\\D','',regex=True).apply(pd.to_numeric)\n",
    "df[[\"Unit Price\",\"Unit Cost\"]].head(4)"
   ]
  },
  {
   "cell_type": "code",
   "execution_count": 4,
   "metadata": {},
   "outputs": [
    {
     "data": {
      "text/plain": [
       "Unit Price    float64\n",
       "Unit Cost       int64\n",
       "dtype: object"
      ]
     },
     "execution_count": 4,
     "metadata": {},
     "output_type": "execute_result"
    }
   ],
   "source": [
    "df[[\"Unit Price\",\"Unit Cost\"]].dtypes"
   ]
  },
  {
   "cell_type": "code",
   "execution_count": 5,
   "metadata": {},
   "outputs": [
    {
     "data": {
      "text/html": [
       "<div>\n",
       "<style scoped>\n",
       "    .dataframe tbody tr th:only-of-type {\n",
       "        vertical-align: middle;\n",
       "    }\n",
       "\n",
       "    .dataframe tbody tr th {\n",
       "        vertical-align: top;\n",
       "    }\n",
       "\n",
       "    .dataframe thead th {\n",
       "        text-align: right;\n",
       "    }\n",
       "</style>\n",
       "<table border=\"1\" class=\"dataframe\">\n",
       "  <thead>\n",
       "    <tr style=\"text-align: right;\">\n",
       "      <th></th>\n",
       "      <th>Date</th>\n",
       "      <th>Customer Age</th>\n",
       "      <th>Customer Gender</th>\n",
       "      <th>Country</th>\n",
       "      <th>State</th>\n",
       "      <th>Product Category</th>\n",
       "      <th>Sub Category</th>\n",
       "      <th>Quantity</th>\n",
       "      <th>Unit Cost</th>\n",
       "      <th>Unit Price</th>\n",
       "    </tr>\n",
       "  </thead>\n",
       "  <tbody>\n",
       "    <tr>\n",
       "      <th>12159</th>\n",
       "      <td>5/23/2016</td>\n",
       "      <td>24</td>\n",
       "      <td>M</td>\n",
       "      <td>Germany</td>\n",
       "      <td>Hamburg</td>\n",
       "      <td>Accessories</td>\n",
       "      <td>Helmets</td>\n",
       "      <td>3</td>\n",
       "      <td>210</td>\n",
       "      <td>333.0</td>\n",
       "    </tr>\n",
       "  </tbody>\n",
       "</table>\n",
       "</div>"
      ],
      "text/plain": [
       "            Date  Customer Age Customer Gender  Country    State  \\\n",
       "12159  5/23/2016            24               M  Germany  Hamburg   \n",
       "\n",
       "      Product Category Sub Category  Quantity  Unit Cost  Unit Price  \n",
       "12159      Accessories      Helmets         3        210       333.0  "
      ]
     },
     "execution_count": 5,
     "metadata": {},
     "output_type": "execute_result"
    }
   ],
   "source": [
    "df.sample()"
   ]
  },
  {
   "cell_type": "code",
   "execution_count": 6,
   "metadata": {},
   "outputs": [
    {
     "name": "stdout",
     "output_type": "stream",
     "text": [
      "Customer Age    0\n",
      "Quantity        0\n",
      "Unit Cost       0\n",
      "Unit Price      0\n",
      "dtype: int64\n"
     ]
    }
   ],
   "source": [
    "#select numierc column on df \n",
    "numirc_col = df.select_dtypes(include=\"number\")\n",
    "#search negative number\n",
    "neg = numirc_col<0\n",
    "print(neg.sum())"
   ]
  },
  {
   "cell_type": "code",
   "execution_count": 7,
   "metadata": {},
   "outputs": [
    {
     "name": "stdout",
     "output_type": "stream",
     "text": [
      "unexpected values: Customer Age    0\n",
      "Quantity        0\n",
      "Unit Cost       0\n",
      "Unit Price      0\n",
      "dtype: int64\n"
     ]
    }
   ],
   "source": [
    "#search unexpected values\n",
    "unexpected_values = numirc_col >1000000\n",
    "print(\"unexpected values:\",unexpected_values.sum())"
   ]
  },
  {
   "cell_type": "code",
   "execution_count": 8,
   "metadata": {},
   "outputs": [
    {
     "name": "stdout",
     "output_type": "stream",
     "text": [
      "num of row duplicated: 4\n"
     ]
    },
    {
     "data": {
      "text/html": [
       "<div>\n",
       "<style scoped>\n",
       "    .dataframe tbody tr th:only-of-type {\n",
       "        vertical-align: middle;\n",
       "    }\n",
       "\n",
       "    .dataframe tbody tr th {\n",
       "        vertical-align: top;\n",
       "    }\n",
       "\n",
       "    .dataframe thead th {\n",
       "        text-align: right;\n",
       "    }\n",
       "</style>\n",
       "<table border=\"1\" class=\"dataframe\">\n",
       "  <thead>\n",
       "    <tr style=\"text-align: right;\">\n",
       "      <th></th>\n",
       "      <th>Date</th>\n",
       "      <th>Customer Age</th>\n",
       "      <th>Customer Gender</th>\n",
       "      <th>Country</th>\n",
       "      <th>State</th>\n",
       "      <th>Product Category</th>\n",
       "      <th>Sub Category</th>\n",
       "      <th>Quantity</th>\n",
       "      <th>Unit Cost</th>\n",
       "      <th>Unit Price</th>\n",
       "    </tr>\n",
       "  </thead>\n",
       "  <tbody>\n",
       "    <tr>\n",
       "      <th>18340</th>\n",
       "      <td>4/16/2016</td>\n",
       "      <td>18</td>\n",
       "      <td>M</td>\n",
       "      <td>France</td>\n",
       "      <td>Seine (Paris)</td>\n",
       "      <td>Accessories</td>\n",
       "      <td>Tires and Tubes</td>\n",
       "      <td>2</td>\n",
       "      <td>12</td>\n",
       "      <td>18.0</td>\n",
       "    </tr>\n",
       "    <tr>\n",
       "      <th>28289</th>\n",
       "      <td>8/8/2015</td>\n",
       "      <td>30</td>\n",
       "      <td>F</td>\n",
       "      <td>United States</td>\n",
       "      <td>California</td>\n",
       "      <td>Accessories</td>\n",
       "      <td>Tires and Tubes</td>\n",
       "      <td>2</td>\n",
       "      <td>20</td>\n",
       "      <td>22.0</td>\n",
       "    </tr>\n",
       "    <tr>\n",
       "      <th>31095</th>\n",
       "      <td>12/13/2015</td>\n",
       "      <td>27</td>\n",
       "      <td>M</td>\n",
       "      <td>United States</td>\n",
       "      <td>California</td>\n",
       "      <td>Accessories</td>\n",
       "      <td>Bottles and Cages</td>\n",
       "      <td>3</td>\n",
       "      <td>18</td>\n",
       "      <td>19.0</td>\n",
       "    </tr>\n",
       "    <tr>\n",
       "      <th>33087</th>\n",
       "      <td>8/31/2015</td>\n",
       "      <td>33</td>\n",
       "      <td>F</td>\n",
       "      <td>Germany</td>\n",
       "      <td>Nordrhein-Westfalen</td>\n",
       "      <td>Accessories</td>\n",
       "      <td>Tires and Tubes</td>\n",
       "      <td>3</td>\n",
       "      <td>9</td>\n",
       "      <td>12.0</td>\n",
       "    </tr>\n",
       "  </tbody>\n",
       "</table>\n",
       "</div>"
      ],
      "text/plain": [
       "             Date  Customer Age Customer Gender        Country  \\\n",
       "18340   4/16/2016            18               M         France   \n",
       "28289    8/8/2015            30               F  United States   \n",
       "31095  12/13/2015            27               M  United States   \n",
       "33087   8/31/2015            33               F        Germany   \n",
       "\n",
       "                     State Product Category       Sub Category  Quantity  \\\n",
       "18340        Seine (Paris)      Accessories    Tires and Tubes         2   \n",
       "28289           California      Accessories    Tires and Tubes         2   \n",
       "31095           California      Accessories  Bottles and Cages         3   \n",
       "33087  Nordrhein-Westfalen      Accessories    Tires and Tubes         3   \n",
       "\n",
       "       Unit Cost  Unit Price  \n",
       "18340         12        18.0  \n",
       "28289         20        22.0  \n",
       "31095         18        19.0  \n",
       "33087          9        12.0  "
      ]
     },
     "execution_count": 8,
     "metadata": {},
     "output_type": "execute_result"
    }
   ],
   "source": [
    "print(\"num of row duplicated:\",df.duplicated().sum())\n",
    "du =df[df.duplicated()]\n",
    "du"
   ]
  },
  {
   "cell_type": "markdown",
   "metadata": {},
   "source": [
    "EDA"
   ]
  },
  {
   "cell_type": "code",
   "execution_count": 9,
   "metadata": {},
   "outputs": [
    {
     "name": "stdout",
     "output_type": "stream",
     "text": [
      "<class 'pandas.core.frame.DataFrame'>\n",
      "RangeIndex: 34865 entries, 0 to 34864\n",
      "Data columns (total 10 columns):\n",
      " #   Column            Non-Null Count  Dtype  \n",
      "---  ------            --------------  -----  \n",
      " 0   Date              34865 non-null  object \n",
      " 1   Customer Age      34865 non-null  int64  \n",
      " 2   Customer Gender   34865 non-null  object \n",
      " 3   Country           34865 non-null  object \n",
      " 4   State             34865 non-null  object \n",
      " 5   Product Category  34865 non-null  object \n",
      " 6   Sub Category      34865 non-null  object \n",
      " 7   Quantity          34865 non-null  int64  \n",
      " 8   Unit Cost         34865 non-null  int64  \n",
      " 9   Unit Price        34865 non-null  float64\n",
      "dtypes: float64(1), int64(3), object(6)\n",
      "memory usage: 2.7+ MB\n"
     ]
    }
   ],
   "source": [
    "df.info()"
   ]
  },
  {
   "cell_type": "code",
   "execution_count": 10,
   "metadata": {},
   "outputs": [
    {
     "data": {
      "text/plain": [
       "Customer Age     36.382705\n",
       "Quantity          2.002553\n",
       "Unit Cost       349.948860\n",
       "Unit Price      389.325541\n",
       "dtype: float64"
      ]
     },
     "execution_count": 10,
     "metadata": {},
     "output_type": "execute_result"
    }
   ],
   "source": [
    "numirc_col.mean()"
   ]
  },
  {
   "cell_type": "code",
   "execution_count": 11,
   "metadata": {},
   "outputs": [
    {
     "data": {
      "text/plain": [
       "Customer Age    17.0\n",
       "Quantity         1.0\n",
       "Unit Cost        1.0\n",
       "Unit Price       1.0\n",
       "dtype: float64"
      ]
     },
     "execution_count": 11,
     "metadata": {},
     "output_type": "execute_result"
    }
   ],
   "source": [
    "numirc_col.min()"
   ]
  },
  {
   "cell_type": "code",
   "execution_count": 12,
   "metadata": {},
   "outputs": [
    {
     "data": {
      "text/plain": [
       "Customer Age      87.0\n",
       "Quantity           3.0\n",
       "Unit Cost       3240.0\n",
       "Unit Price      5082.0\n",
       "dtype: float64"
      ]
     },
     "execution_count": 12,
     "metadata": {},
     "output_type": "execute_result"
    }
   ],
   "source": [
    "numirc_col.max()"
   ]
  },
  {
   "cell_type": "code",
   "execution_count": 13,
   "metadata": {},
   "outputs": [
    {
     "data": {
      "text/html": [
       "<div>\n",
       "<style scoped>\n",
       "    .dataframe tbody tr th:only-of-type {\n",
       "        vertical-align: middle;\n",
       "    }\n",
       "\n",
       "    .dataframe tbody tr th {\n",
       "        vertical-align: top;\n",
       "    }\n",
       "\n",
       "    .dataframe thead th {\n",
       "        text-align: right;\n",
       "    }\n",
       "</style>\n",
       "<table border=\"1\" class=\"dataframe\">\n",
       "  <thead>\n",
       "    <tr style=\"text-align: right;\">\n",
       "      <th></th>\n",
       "      <th>Customer Age</th>\n",
       "      <th>Quantity</th>\n",
       "      <th>Unit Cost</th>\n",
       "      <th>Unit Price</th>\n",
       "    </tr>\n",
       "  </thead>\n",
       "  <tbody>\n",
       "    <tr>\n",
       "      <th>count</th>\n",
       "      <td>34865.000000</td>\n",
       "      <td>34865.000000</td>\n",
       "      <td>34865.000000</td>\n",
       "      <td>34865.000000</td>\n",
       "    </tr>\n",
       "    <tr>\n",
       "      <th>mean</th>\n",
       "      <td>36.382705</td>\n",
       "      <td>2.002553</td>\n",
       "      <td>349.948860</td>\n",
       "      <td>389.325541</td>\n",
       "    </tr>\n",
       "    <tr>\n",
       "      <th>std</th>\n",
       "      <td>11.113005</td>\n",
       "      <td>0.813965</td>\n",
       "      <td>490.010436</td>\n",
       "      <td>525.311617</td>\n",
       "    </tr>\n",
       "    <tr>\n",
       "      <th>min</th>\n",
       "      <td>17.000000</td>\n",
       "      <td>1.000000</td>\n",
       "      <td>1.000000</td>\n",
       "      <td>1.000000</td>\n",
       "    </tr>\n",
       "    <tr>\n",
       "      <th>25%</th>\n",
       "      <td>28.000000</td>\n",
       "      <td>1.000000</td>\n",
       "      <td>45.000000</td>\n",
       "      <td>54.000000</td>\n",
       "    </tr>\n",
       "    <tr>\n",
       "      <th>50%</th>\n",
       "      <td>35.000000</td>\n",
       "      <td>2.000000</td>\n",
       "      <td>150.000000</td>\n",
       "      <td>179.000000</td>\n",
       "    </tr>\n",
       "    <tr>\n",
       "      <th>75%</th>\n",
       "      <td>44.000000</td>\n",
       "      <td>3.000000</td>\n",
       "      <td>455.000000</td>\n",
       "      <td>521.000000</td>\n",
       "    </tr>\n",
       "    <tr>\n",
       "      <th>max</th>\n",
       "      <td>87.000000</td>\n",
       "      <td>3.000000</td>\n",
       "      <td>3240.000000</td>\n",
       "      <td>5082.000000</td>\n",
       "    </tr>\n",
       "  </tbody>\n",
       "</table>\n",
       "</div>"
      ],
      "text/plain": [
       "       Customer Age      Quantity     Unit Cost    Unit Price\n",
       "count  34865.000000  34865.000000  34865.000000  34865.000000\n",
       "mean      36.382705      2.002553    349.948860    389.325541\n",
       "std       11.113005      0.813965    490.010436    525.311617\n",
       "min       17.000000      1.000000      1.000000      1.000000\n",
       "25%       28.000000      1.000000     45.000000     54.000000\n",
       "50%       35.000000      2.000000    150.000000    179.000000\n",
       "75%       44.000000      3.000000    455.000000    521.000000\n",
       "max       87.000000      3.000000   3240.000000   5082.000000"
      ]
     },
     "execution_count": 13,
     "metadata": {},
     "output_type": "execute_result"
    }
   ],
   "source": [
    "numirc_col.describe()"
   ]
  },
  {
   "cell_type": "code",
   "execution_count": 14,
   "metadata": {},
   "outputs": [
    {
     "data": {
      "text/plain": [
       "Date                576\n",
       "Customer Gender       2\n",
       "Country               4\n",
       "State                45\n",
       "Product Category      3\n",
       "Sub Category         17\n",
       "dtype: int64"
      ]
     },
     "execution_count": 14,
     "metadata": {},
     "output_type": "execute_result"
    }
   ],
   "source": [
    "categor_col  = df.select_dtypes(exclude=\"number\") \n",
    "\n",
    "categor_col.nunique()\n"
   ]
  },
  {
   "cell_type": "code",
   "execution_count": 15,
   "metadata": {},
   "outputs": [
    {
     "data": {
      "text/html": [
       "<div>\n",
       "<style scoped>\n",
       "    .dataframe tbody tr th:only-of-type {\n",
       "        vertical-align: middle;\n",
       "    }\n",
       "\n",
       "    .dataframe tbody tr th {\n",
       "        vertical-align: top;\n",
       "    }\n",
       "\n",
       "    .dataframe thead th {\n",
       "        text-align: right;\n",
       "    }\n",
       "</style>\n",
       "<table border=\"1\" class=\"dataframe\">\n",
       "  <thead>\n",
       "    <tr style=\"text-align: right;\">\n",
       "      <th></th>\n",
       "      <th>Customer Age</th>\n",
       "      <th>Quantity</th>\n",
       "      <th>Unit Cost</th>\n",
       "      <th>Unit Price</th>\n",
       "    </tr>\n",
       "  </thead>\n",
       "  <tbody>\n",
       "    <tr>\n",
       "      <th>count</th>\n",
       "      <td>34865.000000</td>\n",
       "      <td>34865.000000</td>\n",
       "      <td>34865.000000</td>\n",
       "      <td>34865.000000</td>\n",
       "    </tr>\n",
       "    <tr>\n",
       "      <th>mean</th>\n",
       "      <td>36.382705</td>\n",
       "      <td>2.002553</td>\n",
       "      <td>349.948860</td>\n",
       "      <td>389.325541</td>\n",
       "    </tr>\n",
       "    <tr>\n",
       "      <th>std</th>\n",
       "      <td>11.113005</td>\n",
       "      <td>0.813965</td>\n",
       "      <td>490.010436</td>\n",
       "      <td>525.311617</td>\n",
       "    </tr>\n",
       "    <tr>\n",
       "      <th>min</th>\n",
       "      <td>17.000000</td>\n",
       "      <td>1.000000</td>\n",
       "      <td>1.000000</td>\n",
       "      <td>1.000000</td>\n",
       "    </tr>\n",
       "    <tr>\n",
       "      <th>25%</th>\n",
       "      <td>28.000000</td>\n",
       "      <td>1.000000</td>\n",
       "      <td>45.000000</td>\n",
       "      <td>54.000000</td>\n",
       "    </tr>\n",
       "    <tr>\n",
       "      <th>50%</th>\n",
       "      <td>35.000000</td>\n",
       "      <td>2.000000</td>\n",
       "      <td>150.000000</td>\n",
       "      <td>179.000000</td>\n",
       "    </tr>\n",
       "    <tr>\n",
       "      <th>75%</th>\n",
       "      <td>44.000000</td>\n",
       "      <td>3.000000</td>\n",
       "      <td>455.000000</td>\n",
       "      <td>521.000000</td>\n",
       "    </tr>\n",
       "    <tr>\n",
       "      <th>max</th>\n",
       "      <td>87.000000</td>\n",
       "      <td>3.000000</td>\n",
       "      <td>3240.000000</td>\n",
       "      <td>5082.000000</td>\n",
       "    </tr>\n",
       "  </tbody>\n",
       "</table>\n",
       "</div>"
      ],
      "text/plain": [
       "       Customer Age      Quantity     Unit Cost    Unit Price\n",
       "count  34865.000000  34865.000000  34865.000000  34865.000000\n",
       "mean      36.382705      2.002553    349.948860    389.325541\n",
       "std       11.113005      0.813965    490.010436    525.311617\n",
       "min       17.000000      1.000000      1.000000      1.000000\n",
       "25%       28.000000      1.000000     45.000000     54.000000\n",
       "50%       35.000000      2.000000    150.000000    179.000000\n",
       "75%       44.000000      3.000000    455.000000    521.000000\n",
       "max       87.000000      3.000000   3240.000000   5082.000000"
      ]
     },
     "execution_count": 15,
     "metadata": {},
     "output_type": "execute_result"
    }
   ],
   "source": [
    "df.describe()"
   ]
  },
  {
   "cell_type": "code",
   "execution_count": 16,
   "metadata": {},
   "outputs": [
    {
     "data": {
      "text/html": [
       "<div>\n",
       "<style scoped>\n",
       "    .dataframe tbody tr th:only-of-type {\n",
       "        vertical-align: middle;\n",
       "    }\n",
       "\n",
       "    .dataframe tbody tr th {\n",
       "        vertical-align: top;\n",
       "    }\n",
       "\n",
       "    .dataframe thead th {\n",
       "        text-align: right;\n",
       "    }\n",
       "</style>\n",
       "<table border=\"1\" class=\"dataframe\">\n",
       "  <thead>\n",
       "    <tr style=\"text-align: right;\">\n",
       "      <th></th>\n",
       "      <th>Date</th>\n",
       "      <th>Customer Gender</th>\n",
       "      <th>Country</th>\n",
       "      <th>State</th>\n",
       "      <th>Product Category</th>\n",
       "      <th>Sub Category</th>\n",
       "    </tr>\n",
       "  </thead>\n",
       "  <tbody>\n",
       "    <tr>\n",
       "      <th>count</th>\n",
       "      <td>34865</td>\n",
       "      <td>34865</td>\n",
       "      <td>34865</td>\n",
       "      <td>34865</td>\n",
       "      <td>34865</td>\n",
       "      <td>34865</td>\n",
       "    </tr>\n",
       "    <tr>\n",
       "      <th>unique</th>\n",
       "      <td>576</td>\n",
       "      <td>2</td>\n",
       "      <td>4</td>\n",
       "      <td>45</td>\n",
       "      <td>3</td>\n",
       "      <td>17</td>\n",
       "    </tr>\n",
       "    <tr>\n",
       "      <th>top</th>\n",
       "      <td>3/1/2016</td>\n",
       "      <td>M</td>\n",
       "      <td>United States</td>\n",
       "      <td>California</td>\n",
       "      <td>Accessories</td>\n",
       "      <td>Tires and Tubes</td>\n",
       "    </tr>\n",
       "    <tr>\n",
       "      <th>freq</th>\n",
       "      <td>196</td>\n",
       "      <td>17805</td>\n",
       "      <td>18076</td>\n",
       "      <td>10332</td>\n",
       "      <td>22533</td>\n",
       "      <td>11112</td>\n",
       "    </tr>\n",
       "  </tbody>\n",
       "</table>\n",
       "</div>"
      ],
      "text/plain": [
       "            Date Customer Gender        Country       State Product Category  \\\n",
       "count      34865           34865          34865       34865            34865   \n",
       "unique       576               2              4          45                3   \n",
       "top     3/1/2016               M  United States  California      Accessories   \n",
       "freq         196           17805          18076       10332            22533   \n",
       "\n",
       "           Sub Category  \n",
       "count             34865  \n",
       "unique               17  \n",
       "top     Tires and Tubes  \n",
       "freq              11112  "
      ]
     },
     "execution_count": 16,
     "metadata": {},
     "output_type": "execute_result"
    }
   ],
   "source": [
    "df.value_counts()\n",
    "df.select_dtypes(\"O\").describe()"
   ]
  },
  {
   "cell_type": "markdown",
   "metadata": {},
   "source": [
    "Feature Extraction"
   ]
  },
  {
   "cell_type": "code",
   "execution_count": 17,
   "metadata": {},
   "outputs": [
    {
     "name": "stdout",
     "output_type": "stream",
     "text": [
      "0   2016-02-19\n",
      "1   2016-02-20\n",
      "2   2016-02-27\n",
      "3   2016-03-12\n",
      "4   2016-03-12\n",
      "Name: Date, dtype: datetime64[ns]\n",
      "year :\n",
      " 0    2016\n",
      "1    2016\n",
      "2    2016\n",
      "Name: Year, dtype: int32\n",
      "day :\n",
      " 0    19\n",
      "1    20\n",
      "2    27\n",
      "Name: Day, dtype: int32\n"
     ]
    }
   ],
   "source": [
    "df[\"Date\"]=pd.to_datetime(df[\"Date\"])\n",
    "print(df[\"Date\"].head())\n",
    "df[\"Year\"]=df[\"Date\"].dt.year\n",
    "df[\"Day\"]=df[\"Date\"].dt.day\n",
    "print(\"year :\\n\",df[\"Year\"].head(3))\n",
    "print(\"day :\\n\",df[\"Day\"].head(3))"
   ]
  },
  {
   "cell_type": "code",
   "execution_count": 18,
   "metadata": {},
   "outputs": [
    {
     "data": {
      "text/plain": [
       "22350360.0"
      ]
     },
     "execution_count": 18,
     "metadata": {},
     "output_type": "execute_result"
    }
   ],
   "source": [
    "df[\"total revenue\"]= df['Quantity']*df['Unit Price']\n",
    "df[\"total revenue\"].sum()"
   ]
  },
  {
   "cell_type": "code",
   "execution_count": 19,
   "metadata": {},
   "outputs": [
    {
     "data": {
      "text/plain": [
       "20086853"
      ]
     },
     "execution_count": 19,
     "metadata": {},
     "output_type": "execute_result"
    }
   ],
   "source": [
    "df[\"total cost\"]= df['Quantity']*df['Unit Cost']\n",
    "df[\"total cost\"].sum()"
   ]
  },
  {
   "cell_type": "code",
   "execution_count": 20,
   "metadata": {},
   "outputs": [
    {
     "data": {
      "text/plain": [
       "0           8720.0\n",
       "1           2900.0\n",
       "2            180.0\n",
       "3          92664.0\n",
       "4          13230.0\n",
       "           ...    \n",
       "34860    3046863.0\n",
       "34861    4575040.0\n",
       "34862    3243567.0\n",
       "34863    3448467.0\n",
       "34864    3637760.0\n",
       "Name: profit, Length: 34865, dtype: float64"
      ]
     },
     "execution_count": 20,
     "metadata": {},
     "output_type": "execute_result"
    }
   ],
   "source": [
    "df[\"profit\"]= df['total revenue']*df['total cost']\n",
    "df[\"profit\"]"
   ]
  },
  {
   "cell_type": "code",
   "execution_count": 21,
   "metadata": {},
   "outputs": [
    {
     "data": {
      "text/plain": [
       "0        positive\n",
       "1        positive\n",
       "2        positive\n",
       "3        positive\n",
       "4        positive\n",
       "           ...   \n",
       "34860    positive\n",
       "34861    positive\n",
       "34862    positive\n",
       "34863    positive\n",
       "34864    positive\n",
       "Name: classify profit, Length: 34865, dtype: object"
      ]
     },
     "execution_count": 21,
     "metadata": {},
     "output_type": "execute_result"
    }
   ],
   "source": [
    "df[\"classify profit\"]= df[\"profit\"].apply(lambda x: \"positive\" if x>0 else(\"negative\" if x<0 else \"break even\"))\n",
    "df[\"classify profit\"] "
   ]
  },
  {
   "cell_type": "code",
   "execution_count": 22,
   "metadata": {},
   "outputs": [
    {
     "data": {
      "text/html": [
       "<div>\n",
       "<style scoped>\n",
       "    .dataframe tbody tr th:only-of-type {\n",
       "        vertical-align: middle;\n",
       "    }\n",
       "\n",
       "    .dataframe tbody tr th {\n",
       "        vertical-align: top;\n",
       "    }\n",
       "\n",
       "    .dataframe thead th {\n",
       "        text-align: right;\n",
       "    }\n",
       "</style>\n",
       "<table border=\"1\" class=\"dataframe\">\n",
       "  <thead>\n",
       "    <tr style=\"text-align: right;\">\n",
       "      <th></th>\n",
       "      <th>Date</th>\n",
       "      <th>Customer Age</th>\n",
       "      <th>Customer Gender</th>\n",
       "      <th>Country</th>\n",
       "      <th>State</th>\n",
       "      <th>Product Category</th>\n",
       "      <th>Sub Category</th>\n",
       "      <th>Quantity</th>\n",
       "      <th>Unit Cost</th>\n",
       "      <th>Unit Price</th>\n",
       "      <th>Year</th>\n",
       "      <th>Day</th>\n",
       "      <th>total revenue</th>\n",
       "      <th>total cost</th>\n",
       "      <th>profit</th>\n",
       "      <th>classify profit</th>\n",
       "    </tr>\n",
       "  </thead>\n",
       "  <tbody>\n",
       "    <tr>\n",
       "      <th>23195</th>\n",
       "      <td>2016-03-14</td>\n",
       "      <td>24</td>\n",
       "      <td>M</td>\n",
       "      <td>United States</td>\n",
       "      <td>Washington</td>\n",
       "      <td>Bikes</td>\n",
       "      <td>Road Bikes</td>\n",
       "      <td>1</td>\n",
       "      <td>1120</td>\n",
       "      <td>1100.0</td>\n",
       "      <td>2016</td>\n",
       "      <td>14</td>\n",
       "      <td>1100.0</td>\n",
       "      <td>1120</td>\n",
       "      <td>1232000.0</td>\n",
       "      <td>positive</td>\n",
       "    </tr>\n",
       "  </tbody>\n",
       "</table>\n",
       "</div>"
      ],
      "text/plain": [
       "            Date  Customer Age Customer Gender        Country       State  \\\n",
       "23195 2016-03-14            24               M  United States  Washington   \n",
       "\n",
       "      Product Category Sub Category  Quantity  Unit Cost  Unit Price  Year  \\\n",
       "23195            Bikes   Road Bikes         1       1120      1100.0  2016   \n",
       "\n",
       "       Day  total revenue  total cost     profit classify profit  \n",
       "23195   14         1100.0        1120  1232000.0        positive  "
      ]
     },
     "execution_count": 22,
     "metadata": {},
     "output_type": "execute_result"
    }
   ],
   "source": [
    "df.sample()"
   ]
  },
  {
   "cell_type": "code",
   "execution_count": 33,
   "metadata": {},
   "outputs": [
    {
     "data": {
      "text/html": [
       "<div>\n",
       "<style scoped>\n",
       "    .dataframe tbody tr th:only-of-type {\n",
       "        vertical-align: middle;\n",
       "    }\n",
       "\n",
       "    .dataframe tbody tr th {\n",
       "        vertical-align: top;\n",
       "    }\n",
       "\n",
       "    .dataframe thead th {\n",
       "        text-align: right;\n",
       "    }\n",
       "</style>\n",
       "<table border=\"1\" class=\"dataframe\">\n",
       "  <thead>\n",
       "    <tr style=\"text-align: right;\">\n",
       "      <th></th>\n",
       "      <th>Date</th>\n",
       "      <th>Customer Age</th>\n",
       "      <th>Customer Gender</th>\n",
       "      <th>Country</th>\n",
       "      <th>State</th>\n",
       "      <th>Product Category</th>\n",
       "      <th>Sub Category</th>\n",
       "      <th>Quantity</th>\n",
       "      <th>Unit Cost</th>\n",
       "      <th>Unit Price</th>\n",
       "      <th>Year</th>\n",
       "      <th>Day</th>\n",
       "      <th>total revenue</th>\n",
       "      <th>total cost</th>\n",
       "      <th>profit</th>\n",
       "      <th>classify profit</th>\n",
       "      <th>Month</th>\n",
       "      <th>Category_Profit</th>\n",
       "    </tr>\n",
       "  </thead>\n",
       "  <tbody>\n",
       "    <tr>\n",
       "      <th>10101</th>\n",
       "      <td>2015-10-01</td>\n",
       "      <td>25</td>\n",
       "      <td>M</td>\n",
       "      <td>Germany</td>\n",
       "      <td>Nordrhein-Westfalen</td>\n",
       "      <td>Accessories</td>\n",
       "      <td>Bottles and Cages</td>\n",
       "      <td>1</td>\n",
       "      <td>75</td>\n",
       "      <td>95.0</td>\n",
       "      <td>2015</td>\n",
       "      <td>1</td>\n",
       "      <td>95.0</td>\n",
       "      <td>75</td>\n",
       "      <td>7125.0</td>\n",
       "      <td>positive</td>\n",
       "      <td>10</td>\n",
       "      <td>Postive</td>\n",
       "    </tr>\n",
       "  </tbody>\n",
       "</table>\n",
       "</div>"
      ],
      "text/plain": [
       "            Date  Customer Age Customer Gender  Country                State  \\\n",
       "10101 2015-10-01            25               M  Germany  Nordrhein-Westfalen   \n",
       "\n",
       "      Product Category       Sub Category  Quantity  Unit Cost  Unit Price  \\\n",
       "10101      Accessories  Bottles and Cages         1         75        95.0   \n",
       "\n",
       "       Year  Day  total revenue  total cost  profit classify profit  Month  \\\n",
       "10101  2015    1           95.0          75  7125.0        positive     10   \n",
       "\n",
       "      Category_Profit  \n",
       "10101         Postive  "
      ]
     },
     "execution_count": 33,
     "metadata": {},
     "output_type": "execute_result"
    }
   ],
   "source": [
    "df[\"Category_Profit\"]=df[\"profit\"].apply(lambda x:\"Postive\" if x>0 else \"Negative\")\n",
    "df.sample()"
   ]
  },
  {
   "cell_type": "code",
   "execution_count": 23,
   "metadata": {},
   "outputs": [
    {
     "name": "stdout",
     "output_type": "stream",
     "text": [
      "num_row1:  34865\n",
      "num_row2:  34865\n"
     ]
    }
   ],
   "source": [
    "num_row = len(df)\n",
    "print(\"num_row1: \",num_row)\n",
    "num_row = df.shape[0]\n",
    "print(\"num_row2: \",num_row)"
   ]
  },
  {
   "cell_type": "code",
   "execution_count": 24,
   "metadata": {},
   "outputs": [
    {
     "data": {
      "text/plain": [
       "349.94885988813996"
      ]
     },
     "execution_count": 24,
     "metadata": {},
     "output_type": "execute_result"
    }
   ],
   "source": [
    "avarege_cost = df[\"Unit Cost\"].mean()\n",
    "avarege_cost"
   ]
  },
  {
   "cell_type": "code",
   "execution_count": 25,
   "metadata": {},
   "outputs": [
    {
     "data": {
      "text/plain": [
       "'Tires and Tubes'"
      ]
     },
     "execution_count": 25,
     "metadata": {},
     "output_type": "execute_result"
    }
   ],
   "source": [
    "hightsales_subcategroy= df.groupby('Sub Category')['Quantity'].sum()\n",
    "hightsales_subcategroy.idxmax()"
   ]
  },
  {
   "cell_type": "code",
   "execution_count": 26,
   "metadata": {},
   "outputs": [
    {
     "data": {
      "text/plain": [
       "17726400.0"
      ]
     },
     "execution_count": 26,
     "metadata": {},
     "output_type": "execute_result"
    }
   ],
   "source": [
    "df[\"profit\"]= df['total revenue']*df['total cost']\n",
    "hight_profit = df[\"profit\"].max()\n",
    "hight_profit"
   ]
  },
  {
   "cell_type": "code",
   "execution_count": 27,
   "metadata": {},
   "outputs": [
    {
     "data": {
      "text/html": [
       "<div>\n",
       "<style scoped>\n",
       "    .dataframe tbody tr th:only-of-type {\n",
       "        vertical-align: middle;\n",
       "    }\n",
       "\n",
       "    .dataframe tbody tr th {\n",
       "        vertical-align: top;\n",
       "    }\n",
       "\n",
       "    .dataframe thead th {\n",
       "        text-align: right;\n",
       "    }\n",
       "</style>\n",
       "<table border=\"1\" class=\"dataframe\">\n",
       "  <thead>\n",
       "    <tr style=\"text-align: right;\">\n",
       "      <th></th>\n",
       "      <th>Date</th>\n",
       "      <th>Customer Age</th>\n",
       "      <th>Customer Gender</th>\n",
       "      <th>Country</th>\n",
       "      <th>State</th>\n",
       "      <th>Product Category</th>\n",
       "      <th>Sub Category</th>\n",
       "      <th>Quantity</th>\n",
       "      <th>Unit Cost</th>\n",
       "      <th>Unit Price</th>\n",
       "      <th>Year</th>\n",
       "      <th>Day</th>\n",
       "      <th>total revenue</th>\n",
       "      <th>total cost</th>\n",
       "      <th>profit</th>\n",
       "      <th>classify profit</th>\n",
       "    </tr>\n",
       "  </thead>\n",
       "  <tbody>\n",
       "    <tr>\n",
       "      <th>15926</th>\n",
       "      <td>2015-12-28</td>\n",
       "      <td>47</td>\n",
       "      <td>F</td>\n",
       "      <td>United Kingdom</td>\n",
       "      <td>England</td>\n",
       "      <td>Accessories</td>\n",
       "      <td>Tires and Tubes</td>\n",
       "      <td>3</td>\n",
       "      <td>22</td>\n",
       "      <td>26.0</td>\n",
       "      <td>2015</td>\n",
       "      <td>28</td>\n",
       "      <td>78.0</td>\n",
       "      <td>66</td>\n",
       "      <td>5148.0</td>\n",
       "      <td>positive</td>\n",
       "    </tr>\n",
       "  </tbody>\n",
       "</table>\n",
       "</div>"
      ],
      "text/plain": [
       "            Date  Customer Age Customer Gender         Country    State  \\\n",
       "15926 2015-12-28            47               F  United Kingdom  England   \n",
       "\n",
       "      Product Category     Sub Category  Quantity  Unit Cost  Unit Price  \\\n",
       "15926      Accessories  Tires and Tubes         3         22        26.0   \n",
       "\n",
       "       Year  Day  total revenue  total cost  profit classify profit  \n",
       "15926  2015   28           78.0          66  5148.0        positive  "
      ]
     },
     "execution_count": 27,
     "metadata": {},
     "output_type": "execute_result"
    }
   ],
   "source": [
    "df.sample()"
   ]
  },
  {
   "cell_type": "code",
   "execution_count": 28,
   "metadata": {},
   "outputs": [
    {
     "data": {
      "text/plain": [
       "'California'"
      ]
     },
     "execution_count": 28,
     "metadata": {},
     "output_type": "execute_result"
    }
   ],
   "source": [
    "top_state = df.groupby(\"State\")[\"total revenue\"].sum()\n",
    "top_state.idxmax()"
   ]
  },
  {
   "cell_type": "code",
   "execution_count": 29,
   "metadata": {},
   "outputs": [
    {
     "data": {
      "text/plain": [
       "Year\n",
       "2015    30061\n",
       "2016    39758\n",
       "Name: Quantity, dtype: int64"
      ]
     },
     "execution_count": 29,
     "metadata": {},
     "output_type": "execute_result"
    }
   ],
   "source": [
    "seles_year = df.groupby(\"Year\")[\"Quantity\"].sum()\n",
    "seles_year"
   ]
  },
  {
   "cell_type": "code",
   "execution_count": 30,
   "metadata": {},
   "outputs": [
    {
     "data": {
      "text/plain": [
       "Product Category\n",
       "Accessories    45047\n",
       "Bikes          14291\n",
       "Clothing       10481\n",
       "Name: Quantity, dtype: int64"
      ]
     },
     "execution_count": 30,
     "metadata": {},
     "output_type": "execute_result"
    }
   ],
   "source": [
    "order_category = df.groupby(\"Product Category\")[\"Quantity\"].sum()\n",
    "order_category"
   ]
  },
  {
   "cell_type": "code",
   "execution_count": 31,
   "metadata": {},
   "outputs": [
    {
     "data": {
      "text/plain": [
       "Month\n",
       "1      (1, Bikes)\n",
       "2      (2, Bikes)\n",
       "3      (3, Bikes)\n",
       "4      (4, Bikes)\n",
       "5      (5, Bikes)\n",
       "6      (6, Bikes)\n",
       "7      (7, Bikes)\n",
       "8      (8, Bikes)\n",
       "9      (9, Bikes)\n",
       "10    (10, Bikes)\n",
       "11    (11, Bikes)\n",
       "12    (12, Bikes)\n",
       "Name: profit, dtype: object"
      ]
     },
     "execution_count": 31,
     "metadata": {},
     "output_type": "execute_result"
    }
   ],
   "source": [
    "df[\"Month\"]=df[\"Date\"].dt.month\n",
    "top_profit_category =df.groupby([\"Month\",\"Product Category\"])[\"profit\"].sum().groupby(\"Month\")\n",
    "top_profit_category.idxmax()"
   ]
  },
  {
   "cell_type": "code",
   "execution_count": 32,
   "metadata": {},
   "outputs": [
    {
     "name": "stdout",
     "output_type": "stream",
     "text": [
      "months have the highest sales:  6\n"
     ]
    },
    {
     "data": {
      "text/plain": [
       "<Axes: xlabel='Month'>"
      ]
     },
     "execution_count": 32,
     "metadata": {},
     "output_type": "execute_result"
    },
    {
     "data": {
      "image/png": "[encoded data removed]",
      "text/plain": [
       "<Figure size 640x480 with 1 Axes>"
      ]
     },
     "metadata": {},
     "output_type": "display_data"
    }
   ],
   "source": [
    "month_sales =df.groupby(\"Month\")[\"Quantity\"].sum()\n",
    "print(\"months have the highest sales: \",month_sales.idxmax())\n",
    "month_sales.plot(kind=\"bar\")\n"
   ]
  },
  {
   "cell_type": "code",
   "execution_count": null,
   "metadata": {},
   "outputs": [],
   "source": []
  }
 ],
 "metadata": {
  "kernelspec": {
   "display_name": "Python 3",
   "language": "python",
   "name": "python3"
  },
  "language_info": {
   "codemirror_mode": {
    "name": "ipython",
    "version": 3
   },
   "file_extension": ".py",
   "mimetype": "text/x-python",
   "name": "python",
   "nbconvert_exporter": "python",
   "pygments_lexer": "ipython3",
   "version": "3.12.4"
  }
 },
 "nbformat": 4,
 "nbformat_minor": 2
}
